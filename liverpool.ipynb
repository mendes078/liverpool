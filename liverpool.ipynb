{
 "cells": [
  {
   "cell_type": "markdown",
   "id": "60a48927-67b1-4400-849d-d9531e0f7d1e",
   "metadata": {},
   "source": [
    "/// sessão em construção ///\n",
    "\n",
    "Entre as principais incógnitas que serão discutidas e solucionadas nesta análise, estão:\n",
    "\n",
    "- Qual foi a temporada mais eficiente do Liverpool entre 2011 e 2025?\n",
    "- Como a chegada ou saída de certos jogadores afetou o desempenho da equipe ao longo dos anos?\n",
    "- O Liverpool performa melhor jogando em casa ou fora, e como isso evoluiu ao longo dos anos?\n",
    "- Quais fatores melhor explicam as vitórias do Liverpool?\n",
    "- Qual é a relação entre performance estatística e conquistas?"
   ]
  },
  {
   "cell_type": "code",
   "execution_count": 1,
   "id": "8a4eb92c-907e-4cbf-95a5-ece75bcc9fb5",
   "metadata": {},
   "outputs": [],
   "source": [
    "import pandas as pd"
   ]
  },
  {
   "cell_type": "code",
   "execution_count": null,
   "id": "7bfda9e4-c154-45f2-9ea5-ac0a25f5291b",
   "metadata": {},
   "outputs": [],
   "source": []
  }
 ],
 "metadata": {
  "kernelspec": {
   "display_name": "Python 3 (ipykernel)",
   "language": "python",
   "name": "python3"
  },
  "language_info": {
   "codemirror_mode": {
    "name": "ipython",
    "version": 3
   },
   "file_extension": ".py",
   "mimetype": "text/x-python",
   "name": "python",
   "nbconvert_exporter": "python",
   "pygments_lexer": "ipython3",
   "version": "3.13.2"
  }
 },
 "nbformat": 4,
 "nbformat_minor": 5
}
